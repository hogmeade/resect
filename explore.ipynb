{
 "cells": [
  {
   "cell_type": "code",
   "execution_count": null,
   "metadata": {},
   "outputs": [],
   "source": [
    "import torch\n",
    "import pydicom\n",
    "import matplotlib.pyplot as plt\n",
    "import glob\n",
    "import numpy as np\n",
    "class pancreas():\n",
    "    def __init__(self, root, slice, marker):\n",
    "        self.slice=slice\n",
    "        self.dcm=pydicom.dcmread(root + \"/\" + str(self.slice))\n",
    "        self.location=self.dcm[(\"0020\", \"1041\")].value\n",
    "        self.img = self.dcm.pixel_array\n",
    "        self.ac = self.dcm[(\"0008\", \"0050\")].value\n",
    "        self.sd = self.dcm[(\"0008\", \"103e\")].value\n",
    "        self.marker = marker\n",
    "        self.info()\n",
    "    def transform_to_hu(self, medical_image, image):\n",
    "        intercept = medical_image.RescaleIntercept\n",
    "        slope = medical_image.RescaleSlope\n",
    "        hu_image = image * slope + intercept\n",
    "        return hu_image\n",
    "    def window_image(self, image, window_center, window_width):\n",
    "        img_min = window_center - window_width // 2\n",
    "        img_max = window_center + window_width // 2\n",
    "        window_image = image.copy()\n",
    "        window_image[window_image < img_min] = img_min\n",
    "        window_image[window_image > img_max] = img_max\n",
    "        return window_image\n",
    "    def plot(self, window_center=40, window_width=80):\n",
    "        hu_image = self.transform_to_hu(self.dcm, self.img)\n",
    "        show_image = self.window_image(hu_image, window_center, window_center)\n",
    "        plt.imshow(show_image)\n",
    "    def info(self):\n",
    "        print(\"Image shape : \", self.img.shape)\n",
    "        print(\"Marker      : \", self.marker)\n",
    "        print(self.dcm[(\"0008\", \"0050\")])\n",
    "        print(self.dcm[(\"0008\", \"103e\")])\n",
    "        print(self.dcm[(\"0020\", \"1041\")])\n",
    "resect1=[460, 523, 2337, 2519]\n",
    "path=\"/media/deeplearning/workspace/OUHSC_pancreas/resect1/DICOM\"\n",
    "resect1= pancreas(path, 1489, (12,23))\n",
    "resect1.plot()\n"
   ]
  }
 ],
 "metadata": {
  "language_info": {
   "name": "python"
  },
  "orig_nbformat": 4
 },
 "nbformat": 4,
 "nbformat_minor": 2
}
